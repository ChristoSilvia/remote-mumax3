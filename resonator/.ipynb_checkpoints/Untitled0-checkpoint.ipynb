{
 "metadata": {
  "name": "",
  "signature": "sha256:f955120fafe3c3fd39bf376d9f30b7f50c0ce56841b5ef3b3f069a11c391a275"
 },
 "nbformat": 3,
 "nbformat_minor": 0,
 "worksheets": []
}